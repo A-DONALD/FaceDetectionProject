{
 "cells": [
  {
   "cell_type": "code",
   "execution_count": null,
   "id": "initial_id",
   "metadata": {
    "collapsed": true
   },
   "outputs": [],
   "source": [
    ""
   ]
  },
  {
   "metadata": {},
   "cell_type": "markdown",
   "source": "<h1> Python project </h1>",
   "id": "cbbc615ea5451302"
  },
  {
   "metadata": {},
   "cell_type": "markdown",
   "source": "<h2>Loading Data</h2>",
   "id": "97524b7ddb851591"
  },
  {
   "metadata": {
    "ExecuteTime": {
     "end_time": "2024-11-25T19:53:24.274479Z",
     "start_time": "2024-11-25T19:53:24.143985Z"
    }
   },
   "cell_type": "code",
   "source": [
    "import tensorflow as tf\n",
    "import numpy as np\n",
    "import matplotlib.pyplot as plt\n",
    "import seaborn as sns\n",
    "from sklearn.model_selection import train_test_split\n",
    "from sklearn.metrics import classification_report\n"
   ],
   "id": "187e74c45d8b23c0",
   "outputs": [
    {
     "ename": "ModuleNotFoundError",
     "evalue": "No module named 'tensorflow'",
     "output_type": "error",
     "traceback": [
      "\u001B[1;31m---------------------------------------------------------------------------\u001B[0m",
      "\u001B[1;31mModuleNotFoundError\u001B[0m                       Traceback (most recent call last)",
      "Cell \u001B[1;32mIn[2], line 1\u001B[0m\n\u001B[1;32m----> 1\u001B[0m \u001B[38;5;28;01mimport\u001B[39;00m \u001B[38;5;21;01mtensorflow\u001B[39;00m \u001B[38;5;28;01mas\u001B[39;00m \u001B[38;5;21;01mtf\u001B[39;00m\n\u001B[0;32m      2\u001B[0m \u001B[38;5;28;01mimport\u001B[39;00m \u001B[38;5;21;01mnumpy\u001B[39;00m \u001B[38;5;28;01mas\u001B[39;00m \u001B[38;5;21;01mnp\u001B[39;00m\n\u001B[0;32m      3\u001B[0m \u001B[38;5;28;01mimport\u001B[39;00m \u001B[38;5;21;01mmatplotlib\u001B[39;00m\u001B[38;5;21;01m.\u001B[39;00m\u001B[38;5;21;01mpyplot\u001B[39;00m \u001B[38;5;28;01mas\u001B[39;00m \u001B[38;5;21;01mplt\u001B[39;00m\n",
      "\u001B[1;31mModuleNotFoundError\u001B[0m: No module named 'tensorflow'"
     ]
    }
   ],
   "execution_count": 2
  },
  {
   "metadata": {},
   "cell_type": "code",
   "outputs": [],
   "execution_count": null,
   "source": [
    "from tensorflow.keras.preprocessing.image import ImageDataGenerator\n",
    "\n",
    "# Chemins des dossiers\n",
    "train_dir = \"dataset/real_and_fake_face\"\n",
    "test_dir = \"dataset/real_and_fake_face_detection/real_and_fake_face\"\n",
    "\n",
    "# Générateur d'images avec normalisation\n",
    "data_gen = ImageDataGenerator(rescale=1./255, validation_split=0.2)\n",
    "\n",
    "# Données d'entraînement\n",
    "train_data = data_gen.flow_from_directory(\n",
    "    train_dir,\n",
    "    target_size=(128, 128),  # Taille des images\n",
    "    batch_size=32,          # Taille des batchs\n",
    "    class_mode='binary',    # Classes binaires : \"Real\" (1) et \"Fake\" (0)\n",
    "    subset='training'\n",
    ")\n",
    "\n",
    "# Données de validation\n",
    "val_data = data_gen.flow_from_directory(\n",
    "    train_dir,\n",
    "    target_size=(128, 128),\n",
    "    batch_size=32,\n",
    "    class_mode='binary',\n",
    "    subset='validation'\n",
    ")\n",
    "\n",
    "# Données de test\n",
    "test_data_gen = ImageDataGenerator(rescale=1./255)\n",
    "test_data = test_data_gen.flow_from_directory(\n",
    "    test_dir,\n",
    "    target_size=(128, 128),\n",
    "    batch_size=32,\n",
    "    class_mode='binary'\n",
    ")\n"
   ],
   "id": "eafb20d2d0b05c3"
  }
 ],
 "metadata": {
  "kernelspec": {
   "display_name": "Python 3",
   "language": "python",
   "name": "python3"
  },
  "language_info": {
   "codemirror_mode": {
    "name": "ipython",
    "version": 2
   },
   "file_extension": ".py",
   "mimetype": "text/x-python",
   "name": "python",
   "nbconvert_exporter": "python",
   "pygments_lexer": "ipython2",
   "version": "2.7.6"
  }
 },
 "nbformat": 4,
 "nbformat_minor": 5
}
